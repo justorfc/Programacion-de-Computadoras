{
  "nbformat": 4,
  "nbformat_minor": 0,
  "metadata": {
    "colab": {
      "provenance": [],
      "toc_visible": true,
      "authorship_tag": "ABX9TyMDwdH5noDWNouofd1G/33V",
      "include_colab_link": true
    },
    "kernelspec": {
      "name": "python3",
      "display_name": "Python 3"
    },
    "language_info": {
      "name": "python"
    }
  },
  "cells": [
    {
      "cell_type": "markdown",
      "metadata": {
        "id": "view-in-github",
        "colab_type": "text"
      },
      "source": [
        "<a href=\"https://colab.research.google.com/github/justorfc/Programacion-de-Computadoras/blob/main/Ejemplo_de_notebook_colaborativo.ipynb\" target=\"_parent\"><img src=\"https://colab.research.google.com/assets/colab-badge.svg\" alt=\"Open In Colab\"/></a>"
      ]
    },
    {
      "cell_type": "markdown",
      "source": [],
      "metadata": {
        "id": "PvzfodrIw195"
      }
    },
    {
      "cell_type": "markdown",
      "source": [
        "# **justo.fuentes001**"
      ],
      "metadata": {
        "id": "9tVdC2Ogw3Jl"
      }
    },
    {
      "cell_type": "code",
      "execution_count": null,
      "metadata": {
        "id": "nXw6YL7jw0aQ"
      },
      "outputs": [],
      "source": []
    },
    {
      "cell_type": "markdown",
      "source": [],
      "metadata": {
        "id": "hOX0YvTTw91s"
      }
    },
    {
      "cell_type": "markdown",
      "source": [
        "# # **justo.fuentes002**"
      ],
      "metadata": {
        "id": "TvAkXwtiw_H6"
      }
    },
    {
      "cell_type": "code",
      "source": [],
      "metadata": {
        "id": "wFBEXDwqxBmU"
      },
      "execution_count": null,
      "outputs": []
    },
    {
      "cell_type": "code",
      "source": [],
      "metadata": {
        "id": "d5WaFFAoxB65"
      },
      "execution_count": null,
      "outputs": []
    },
    {
      "cell_type": "markdown",
      "source": [
        "# # **justo.fuentes003**"
      ],
      "metadata": {
        "id": "DL1yTdVExCfx"
      }
    },
    {
      "cell_type": "code",
      "source": [],
      "metadata": {
        "id": "HiKeARMrxEnh"
      },
      "execution_count": null,
      "outputs": []
    }
  ]
}