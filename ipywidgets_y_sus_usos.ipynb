{
  "cells": [
    {
      "cell_type": "markdown",
      "metadata": {
        "id": "view-in-github",
        "colab_type": "text"
      },
      "source": [
        "<a href=\"https://colab.research.google.com/github/justorfc/Programacion-de-Computadoras/blob/main/ipywidgets_y_sus_usos.ipynb\" target=\"_parent\"><img src=\"https://colab.research.google.com/assets/colab-badge.svg\" alt=\"Open In Colab\"/></a>"
      ]
    },
    {
      "cell_type": "markdown",
      "source": [
        "# Cuaderno de Google Colab para ipywidgets\n",
        "\n",
        "**Introducción**\n",
        "\n",
        "Este cuaderno de Google Colab está diseñado para enseñar el uso de ipywidgets, una biblioteca de Python que permite crear elementos interactivos en notebooks Jupyter y Google Colab.\n",
        "\n",
        "**Además al final del cuaderno hay instrucciones para crear, a partir de este Notebook, la versión HTML, y el documento PDF**"
      ],
      "metadata": {
        "id": "9L9ew70X70Pf"
      }
    },
    {
      "cell_type": "markdown",
      "source": [
        "# **1. Qué es ipywidgets**\n",
        "\n",
        "`ipywidgets` es un paquete de Python que permite crear interfaces interactivas en cuadernos Jupyter y Google Colab. Los widgets son elementos de interfaz de usuario que permiten la interacción directa con datos, facilitando la visualización y manipulación de los mismos de manera dinámica."
      ],
      "metadata": {
        "id": "sIHl-9FaB06E"
      }
    },
    {
      "cell_type": "markdown",
      "source": [
        "# **2. Introducción a ipywidgets en Google Colab**\n",
        "\n",
        "Para empezar a utilizar `ipywidgets`, primero debemos asegurarnos de que el paquete esté instalado. **Aunque en Google Colab viene preinstalado**, siempre es buena práctica verificarlo:\n",
        "\n",
        "```python\n",
        "# Instalar ipywidgets si es necesario\n",
        "!pip install ipywidgets"
      ],
      "metadata": {
        "id": "2e91QUBDCBMR"
      }
    },
    {
      "cell_type": "markdown",
      "source": [
        "A continuación, importamos el paquete:"
      ],
      "metadata": {
        "id": "w7-76I7I70Pk"
      }
    },
    {
      "cell_type": "code",
      "source": [
        "import ipywidgets as widgets\n",
        "from IPython.display import display"
      ],
      "outputs": [],
      "execution_count": null,
      "metadata": {
        "id": "lRLS9Os470Pk"
      }
    },
    {
      "cell_type": "markdown",
      "source": [
        "ipywidgets proporciona una variedad de widgets diferentes, que se pueden dividir en las siguientes categorías:\n",
        "\n",
        "* **Widgets numéricos:** Permiten a los usuarios ingresar valores numéricos. Ejemplos: `Slider`, `IntSlider`, `FloatSlider`, `IntBox`, `FloatBox`.\n",
        "* **Widgets booleanos:** Permiten a los usuarios seleccionar entre dos opciones, como verdadero o falso. Ejemplos: `Checkbox`, `ToggleButton`.\n",
        "* **Widgets de selección:** Permiten a los usuarios seleccionar un elemento de una lista de opciones. Ejemplos: `Dropdown`, `RadioButtons`, `Select`.\n",
        "* **Widgets de cadena:** Permiten a los usuarios ingresar texto. Ejemplos: `Text`, `Textarea`."
      ],
      "metadata": {
        "id": "JTQ8I3xK70Pl"
      }
    },
    {
      "cell_type": "markdown",
      "source": [
        "# **3. Widgets List**\n",
        "\n",
        "Veamos algunos ejemplos de widgets de cada categoría:"
      ],
      "metadata": {
        "id": "zs6e2c6eCLPd"
      }
    },
    {
      "cell_type": "markdown",
      "source": [
        "## **Widgets numéricos:**\n",
        "\n",
        "IntSlider"
      ],
      "metadata": {
        "id": "oZFsvVY4CQBc"
      }
    },
    {
      "cell_type": "code",
      "source": [
        "slider = widgets.IntSlider(\n",
        "    min=0,\n",
        "    max=10,\n",
        "    value=5,\n",
        "    description=\"Valor del slider:\",\n",
        ")\n",
        "\n",
        "display(slider)"
      ],
      "outputs": [],
      "execution_count": null,
      "metadata": {
        "id": "fWvmrAiI70Pl"
      }
    },
    {
      "cell_type": "markdown",
      "source": [
        "**FloatSlider**"
      ],
      "metadata": {
        "id": "7DSCbpLN_d87"
      }
    },
    {
      "cell_type": "code",
      "source": [
        "float_slider = widgets.FloatSlider(value=1.5, min=0, max=10.0, step=0.1, description='Float Slider:')\n",
        "display(float_slider)"
      ],
      "metadata": {
        "id": "LmuFpsT-_ikl"
      },
      "execution_count": null,
      "outputs": []
    },
    {
      "cell_type": "markdown",
      "source": [
        "## **Widgets booleanos:**\n",
        "\n",
        "ToggleButton"
      ],
      "metadata": {
        "id": "p_IsKcfw70Pm"
      }
    },
    {
      "cell_type": "code",
      "source": [
        "toggle_button = widgets.ToggleButton(value=False, description='Click me', tooltip='Descripción')\n",
        "display(toggle_button)"
      ],
      "metadata": {
        "id": "5gxKcQGg_x2R"
      },
      "execution_count": null,
      "outputs": []
    },
    {
      "cell_type": "markdown",
      "source": [
        "**Checkbox**"
      ],
      "metadata": {
        "id": "gmVYQs8A_4h7"
      }
    },
    {
      "cell_type": "code",
      "source": [
        "checkbox = widgets.Checkbox(\n",
        "    value=False,\n",
        "    description=\"¿Activar casilla de verificación?\",\n",
        ")\n",
        "\n",
        "display(checkbox)"
      ],
      "outputs": [],
      "execution_count": null,
      "metadata": {
        "id": "ACwjsGDa70Pm"
      }
    },
    {
      "cell_type": "markdown",
      "source": [
        "## **Widgets de selección:**\n",
        "\n",
        "Dropdown"
      ],
      "metadata": {
        "id": "CbdMSgY070Pn"
      }
    },
    {
      "cell_type": "code",
      "source": [
        "dropdown = widgets.Dropdown(options=['Option 1', 'Option 2', 'Option 3'], value='Option 2', description='Dropdown:')\n",
        "display(dropdown)"
      ],
      "metadata": {
        "id": "BIu2Os0pAFeP"
      },
      "execution_count": null,
      "outputs": []
    },
    {
      "cell_type": "code",
      "source": [
        "dropdown = widgets.Dropdown(\n",
        "    options=[\"Opción 1\", \"Opción 2\", \"Opción 3\"],\n",
        "    value=\"Opción 1\",\n",
        "    description=\"Seleccionar opción:\",\n",
        ")\n",
        "\n",
        "display(dropdown)"
      ],
      "outputs": [],
      "execution_count": null,
      "metadata": {
        "id": "rhBQg8q270Pn"
      }
    },
    {
      "cell_type": "markdown",
      "source": [
        "**RadioButtons**"
      ],
      "metadata": {
        "id": "ShG1pX7GAOw3"
      }
    },
    {
      "cell_type": "code",
      "source": [
        "radio_buttons = widgets.RadioButtons(options=['Option A', 'Option B', 'Option C'], description='Radio:')\n",
        "display(radio_buttons)"
      ],
      "metadata": {
        "id": "H2R9k8rbAQOM"
      },
      "execution_count": null,
      "outputs": []
    },
    {
      "cell_type": "markdown",
      "source": [
        "## **Widgets de cadena:**"
      ],
      "metadata": {
        "id": "mGv_b8nG70Pn"
      }
    },
    {
      "cell_type": "markdown",
      "source": [
        "**Text**"
      ],
      "metadata": {
        "id": "v-QyqIW7AYEr"
      }
    },
    {
      "cell_type": "code",
      "source": [
        "textbox = widgets.Text(\n",
        "    value=\"Ingrese texto:\",\n",
        "    description=\"Texto:\",\n",
        ")\n",
        "\n",
        "display(textbox)"
      ],
      "outputs": [],
      "execution_count": null,
      "metadata": {
        "id": "cbbnpc8Q70Pn"
      }
    },
    {
      "cell_type": "markdown",
      "source": [
        "**Textarea**"
      ],
      "metadata": {
        "id": "8xJi1DZaAdS0"
      }
    },
    {
      "cell_type": "code",
      "source": [
        "textarea = widgets.Textarea(value='Hello\\nWorld', description='Textarea:')\n",
        "display(textarea)"
      ],
      "metadata": {
        "id": "wFlp7INEAeRD"
      },
      "execution_count": null,
      "outputs": []
    },
    {
      "cell_type": "markdown",
      "source": [
        "# **4. Using interact**\n",
        "\n",
        "La función `interact` de ipywidgets permite crear interfaces interactivas para funciones Python.\n",
        "\n",
        "**Ejemplo básico de interact:**"
      ],
      "metadata": {
        "id": "SwcV6btf70Po"
      }
    },
    {
      "cell_type": "code",
      "source": [
        "from ipywidgets import interact\n",
        "def cuadrado(x):\n",
        "  return x * x\n",
        "\n",
        "interact(cuadrado, x=widgets.IntSlider(min=0, max=10))"
      ],
      "outputs": [],
      "execution_count": null,
      "metadata": {
        "id": "SeFN3Zi370Po"
      }
    },
    {
      "cell_type": "code",
      "source": [
        "from ipywidgets import interact\n",
        "\n",
        "def greet(name):\n",
        "    return f\"Hello {name}!\"\n",
        "\n",
        "interact(greet, name='World')"
      ],
      "metadata": {
        "id": "l8evDThVA1Nf"
      },
      "execution_count": null,
      "outputs": []
    },
    {
      "cell_type": "markdown",
      "source": [
        "## **Fijación de argumentos con interact:**\n",
        "\n",
        "Podemos fijar el valor de uno o más argumentos de la función utilizando fixed."
      ],
      "metadata": {
        "id": "jLQNuKG870Po"
      }
    },
    {
      "cell_type": "code",
      "source": [
        "from ipywidgets import fixed\n",
        "\n",
        "def sum_numbers(a, b):\n",
        "    return a + b\n",
        "\n",
        "interact(sum_numbers, a=fixed(5), b=widgets.IntSlider(min=0, max=10, step=1, value=3))"
      ],
      "metadata": {
        "id": "yb-kOz_gBARv"
      },
      "execution_count": null,
      "outputs": []
    },
    {
      "cell_type": "code",
      "source": [
        "def suma(a, b):\n",
        "  return a + b\n",
        "\n",
        "interact(suma, a=widgets.IntSlider(min=0, max=10), b=5)"
      ],
      "outputs": [],
      "execution_count": null,
      "metadata": {
        "id": "SD_ksPYH70Po"
      }
    },
    {
      "cell_type": "markdown",
      "source": [
        "En este ejemplo, el valor de `b` se fija en 5, mientras que el valor de `a` se puede cambiar usando el slider."
      ],
      "metadata": {
        "id": "bl6KRUBj70Po"
      }
    },
    {
      "cell_type": "markdown",
      "source": [
        "# 5) Interact con decoradores\n",
        "\n",
        "El decorador @interact simplifica la creación de widgets interactivos directamente en la definición de la función."
      ],
      "metadata": {
        "id": "jM5kRfE_BZAO"
      }
    },
    {
      "cell_type": "code",
      "source": [
        "@widgets.interact(x=(0, 100), y=(0, 100, 10))\n",
        "def plot_function(x, y):\n",
        "    print(f\"x: {x}, y: {y}\")\n",
        "\n",
        "@widgets.interact\n",
        "def show_name(name=\"World\"):\n",
        "    print(f\"Hello {name}!\")"
      ],
      "metadata": {
        "id": "Y5pzG8v09xEb"
      },
      "execution_count": null,
      "outputs": []
    },
    {
      "cell_type": "code",
      "source": [],
      "metadata": {
        "id": "3gEPBMZz9giE"
      },
      "execution_count": null,
      "outputs": []
    },
    {
      "cell_type": "markdown",
      "source": [
        "# **6) Conclusión**\n",
        "\n",
        "ipywidgets es una herramienta poderosa para crear interfaces interactivas en notebooks Jupyter y Google Colab.\n",
        "\n",
        "Este cuaderno ha proporcionado una introducción básica a ipywidgets y ha mostrado cómo usar algunos de los widgets más comunes y la función `interact`. Para obtener más información sobre ipywidgets, consulte la documentación oficial: [https://ipywidgets.readthedocs.io/](https://ipywidgets.readthedocs.io/)."
      ],
      "metadata": {
        "id": "cqUEulpDBTO7"
      }
    },
    {
      "cell_type": "code",
      "source": [],
      "metadata": {
        "id": "kCyn_WfgCtuS"
      },
      "execution_count": null,
      "outputs": []
    },
    {
      "cell_type": "markdown",
      "source": [
        "# 7) **UN EJEMPLO**: CONSTRUCCION DE VENTANAS\n",
        "\n",
        "UN SIMPLE PROBLEMA: CONSTRUCCION DE VENTANAS. (Rob Miles CSharp Yellow Book 2011. ©Rob Miles 2011 Department of Computer Science, The University of Hull)\n",
        "\n"
      ],
      "metadata": {
        "id": "qcu5mtsVDdwd"
      }
    },
    {
      "cell_type": "markdown",
      "source": [
        "## **PLANTEAMIENTO DEL PROBLEMA**.\n",
        "\n",
        "Se requiere desarrollar un aplicativo que calcule los costos de materiales de un fabricante de ventanas. El fabricante desea ingresar las dimensiones de la ventana a fabricar y a partir de allí el aplicativo deberá generar una salida de los costos para fabricar la ventana en términos de la cantidad de madera y vidrio necesario."
      ],
      "metadata": {
        "id": "i1HtNXF4Dlq4"
      }
    },
    {
      "cell_type": "markdown",
      "source": [
        "## ESPECIFICANDO EL PROBLEMA.\n",
        "\n",
        "Cuando considere cómo escribir la especificación de un sistema hay tres cosas a tener en cuenta:\n",
        "\n",
        "1. ¿Qué información fluye hacia dentro del sistema?\n",
        "2. ¿Qué información fluye hacia afuera del sistema?\n",
        "3. ¿Qué hace el sistema con la información?\n",
        "\n",
        "1. INFORMACIÓN QUE FLUYE HACIA DENTRO DEL SISTEMA\n",
        "    + El ancho de la ventana\n",
        "    + El alto de la ventana\n",
        "\n",
        "2. INFORMACIÓN QUE FLUYE HACIA AFUERA DEL SISTEMA. La información que el fabricante desea ver es:\n",
        "\n",
        "    + El área del vidrio requerido para la ventana\n",
        "    + La longitud de madera requerida para construir el marco\n",
        "\n",
        "3. QUÉ HACE EL SISTEMA CON LA INFORMACIÓN. El programa puede derivar los dos valores de acuerdo a las siguientes ecuaciones\n",
        "\n",
        "    + $Área del Vidrio = Ancho de la Ventana * Alto de la Ventana\n",
        "    + Longitud de madera = (Ancho de la Ventana + Alto de la Ventana) * 2\n",
        "\n",
        "$$\n",
        "av = 2 * (ancho * alto)\n",
        "$$\n",
        "\n",
        "$$\n",
        "lm = 2 * (ancho + alto) * 3.25\n",
        "$$"
      ],
      "metadata": {
        "id": "WF8gEoapD0DM"
      }
    },
    {
      "cell_type": "markdown",
      "source": [
        "## PONIENDO MAS DETALLES\n",
        "\n",
        "Se necesita que el programa decida cuando la información ingresada es válida. El fabricante desea que el programa controle las siguientes restricciones:\n",
        "\n",
        "1. El alto de las ventanas, en metros deben ser entre 0.5 metros y 2.0 metros inclusive.\n",
        "2. El ancho de las ventanas, en metros deben ser entre 0.5 metros y 3.5 metros inclusive.\n",
        "3. El área del vidrio requerido para la ventana debe ser en metros cuadrados.  \n",
        "4. Las ventanas son de doble vidrio, de modo que cada ventana requiere dos láminas.\n",
        "5. La longitud de la madera requerida para el marco debe ser dada en pies."
      ],
      "metadata": {
        "id": "GHKp35h9ENAM"
      }
    },
    {
      "cell_type": "markdown",
      "source": [
        "## PROBANDO EL PROGRAMA.\n",
        "\n",
        "Si deseo una ventana de 2 metros de **alto** y 1 metro de **ancho**, el programa debería decirme que necesito 4 metros cuadrados de vidrio y 19.5 pies de madera."
      ],
      "metadata": {
        "id": "azQSk6dbEeYE"
      }
    },
    {
      "cell_type": "markdown",
      "source": [
        "# **Ejercicios**\n",
        "\n",
        "Escriba, en un notebook, dos programas que calcule los costos de materiales: Longitud de la Madera en pies y Área del Vidrio en m2.\n",
        "\n",
        "1. El primer programa con Python puro. Utilizando las funciones print() e input() y crear dos funciones que calculen la Longitud de la Madera en pies y el Área del Vidrio en m2.\n",
        "2. El segundo programa con widgets de ipywidgets, mostrando los valores inciales para el ancho = 1 metro y el alto de 2 metros. Utilizando Funciones e interact con y sin decorador."
      ],
      "metadata": {
        "id": "qM_bvMuHElKa"
      }
    },
    {
      "cell_type": "code",
      "source": [],
      "metadata": {
        "id": "Tm9LKurpDz2B"
      },
      "execution_count": null,
      "outputs": []
    },
    {
      "cell_type": "code",
      "source": [],
      "metadata": {
        "id": "mYItlihhD0oz"
      },
      "execution_count": null,
      "outputs": []
    },
    {
      "cell_type": "code",
      "source": [],
      "metadata": {
        "id": "9VvRwxlHEFqv"
      },
      "execution_count": null,
      "outputs": []
    },
    {
      "cell_type": "code",
      "source": [],
      "metadata": {
        "id": "lu0WrAXoEGXV"
      },
      "execution_count": null,
      "outputs": []
    },
    {
      "cell_type": "markdown",
      "source": [
        "# 7. Conversiones del Notebook de Google Colab\n",
        "\n",
        "**Nota**: El nombre del notebook no debe contener espacios, observe que el nombre de este notebook no tiene espacios:\n",
        "```\n",
        "Convertir_Noteebook_a_PDF_en_Google_Colab.ipynb\n",
        "```\n",
        "\n",
        "**Procedimiento:**\n",
        "\n",
        "1.   Suba el notebook que va a convertir a \"/content\":\n",
        "    + 1.1. Por ejemplo descargue este notebook y\n",
        "    + 1.2. Súbalo a esta sesión de trabajo y luego\n",
        "2.   Lance en celdas de código las siguientes órdenes:\n",
        "\n",
        "\n",
        "```\n",
        "!jupyter nbconvert --to html /content/Convertir_Noteebook_a_PDF_en_Google_Colab.ipynb\n",
        "\n",
        "# Convierte a HTML\n",
        "!jupyter nbconvert Regresión_Lineal_Múltiple.ipynb --to html\n",
        "\n",
        "# Instala paquetes para crear el pdf\n",
        "!sudo apt-get install texlive-xetex texlive-fonts-recommended texlive-plain-generic\n",
        "\n",
        "# Convierte el Notebook en PDF\n",
        "!jupyter nbconvert Regresión_Lineal_Múltiple.ipynb --to pdf\n",
        "```"
      ],
      "metadata": {
        "id": "7XSny104Sose"
      }
    },
    {
      "cell_type": "code",
      "source": [
        "# Instale nbconvert\n",
        "\n",
        "!jupyter nbconvert --to html /content/ipywidgets_y_sus_usos.ipynb"
      ],
      "metadata": {
        "id": "PBGNsoNH4Ei2"
      },
      "execution_count": null,
      "outputs": []
    },
    {
      "cell_type": "code",
      "source": [
        "# Convierte a HTML\n",
        "\n",
        "!jupyter nbconvert ipywidgets_y_sus_usos.ipynb --to html"
      ],
      "metadata": {
        "id": "2q9BRV3RBpJl"
      },
      "execution_count": null,
      "outputs": []
    },
    {
      "cell_type": "code",
      "source": [
        "# Instala paquetes para crear el pdf\n",
        "\n",
        "!sudo apt-get install texlive-xetex texlive-fonts-recommended texlive-plain-generic"
      ],
      "metadata": {
        "id": "4wXK81lUEHZQ"
      },
      "execution_count": null,
      "outputs": []
    },
    {
      "cell_type": "code",
      "source": [
        "# Convierte el Notebook en PDF\n",
        "\n",
        "!jupyter nbconvert ipywidgets_y_sus_usos.ipynb --to pdf"
      ],
      "metadata": {
        "id": "b5BEZPPxDnMO"
      },
      "execution_count": null,
      "outputs": []
    }
  ],
  "metadata": {
    "colab": {
      "provenance": [],
      "toc_visible": true,
      "include_colab_link": true
    },
    "kernelspec": {
      "display_name": "Python 3",
      "name": "python3"
    }
  },
  "nbformat": 4,
  "nbformat_minor": 0
}