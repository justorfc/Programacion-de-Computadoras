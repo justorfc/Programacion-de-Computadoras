{
  "nbformat": 4,
  "nbformat_minor": 0,
  "metadata": {
    "colab": {
      "provenance": [],
      "include_colab_link": true
    },
    "kernelspec": {
      "name": "python3",
      "display_name": "Python 3"
    },
    "language_info": {
      "name": "python"
    }
  },
  "cells": [
    {
      "cell_type": "markdown",
      "metadata": {
        "id": "view-in-github",
        "colab_type": "text"
      },
      "source": [
        "<a href=\"https://colab.research.google.com/github/justorfc/Programacion-de-Computadoras/blob/main/M%C3%B3dulo_math_y_trabajo_colaborativo_en_github.ipynb\" target=\"_parent\"><img src=\"https://colab.research.google.com/assets/colab-badge.svg\" alt=\"Open In Colab\"/></a>"
      ]
    },
    {
      "cell_type": "markdown",
      "source": [
        "# **Módulo math**\n",
        "\n",
        "**Módulos en Python**\n",
        "\n",
        "Un módulo en Python es un archivo .py que contiene un conjunto de funciones, variables o clases. Los módulos se utilizan para organizar el código y reutilizarlo en diferentes programas.\n",
        "\n",
        "Para importar un módulo, utilizamos la instrucción `import`. Por ejemplo, para importar el módulo `math`, podemos usar el siguiente código:\n",
        "\n",
        "```python\n",
        "import math\n",
        "```\n",
        "\n",
        "Una vez importado un módulo, podemos acceder a sus funciones, variables o clases utilizando el punto (`.`). Por ejemplo, para calcular el valor de pi, podemos usar el siguiente código:\n",
        "\n",
        "```python\n",
        "import math\n",
        "\n",
        "print(math.pi)\n",
        "```\n",
        "\n",
        "**Módulo math**\n",
        "\n",
        "El módulo `math` proporciona funciones matemáticas básicas, como:\n",
        "\n",
        "* `abs()`: Devuelve el valor absoluto de un número.\n",
        "* `pow()`: Devuelve el valor de un número elevado a una potencia.\n",
        "* `sqrt()`: Devuelve la raíz cuadrada de un número.\n",
        "* `sin()`: Devuelve el seno de un ángulo.\n",
        "* `cos()`: Devuelve el coseno de un ángulo.\n",
        "* `tan()`: Devuelve la tangente de un ángulo.\n",
        "\n",
        "También proporciona constantes matemáticas, como:\n",
        "\n",
        "* `pi`: El número pi.\n",
        "* `e`: El número e.\n",
        "\n",
        "**Ejemplo de uso del módulo math**\n",
        "\n",
        "El siguiente código muestra cómo utilizar el módulo `math` para calcular el área de un círculo:\n",
        "\n",
        "```python\n",
        "import math\n",
        "\n",
        "radio = 5\n",
        "\n",
        "area = math.pi * radio ** 2\n",
        "\n",
        "print(area)\n",
        "```\n",
        "\n",
        "Este código imprime el siguiente resultado:\n",
        "\n",
        "```\n",
        "78.53981633974483\n",
        "```\n",
        "\n",
        "**Otros módulos de Python**\n",
        "\n",
        "Python viene con una amplia biblioteca de módulos preinstalados. Estos módulos proporcionan una gran variedad de funciones y clases que pueden ser utilizadas en nuestros programas.\n",
        "\n",
        "Algunos de los módulos más utilizados son:\n",
        "\n",
        "* `os`: Proporciona funciones para interactuar con el sistema operativo.\n",
        "* `sys`: Proporciona información sobre el sistema operativo y el entorno de ejecución.\n",
        "* `random`: Proporciona funciones para generar números aleatorios.\n",
        "* `time`: Proporciona funciones para trabajar con el tiempo.\n",
        "* `datetime`: Proporciona funciones para trabajar con fechas y horas."
      ],
      "metadata": {
        "id": "xI2FKRAn1rO3"
      }
    },
    {
      "cell_type": "code",
      "source": [
        "# Cómo se usan las funciones trigonometricas\n",
        "import math\n",
        "\n",
        "r = math.pi / 180       # Factor de conversión de raian a grados\n",
        "\n",
        "print(math.sin(90))\n",
        "print(math.sin(90 * r))"
      ],
      "metadata": {
        "colab": {
          "base_uri": "https://localhost:8080/"
        },
        "id": "AgisVnyo45bi",
        "outputId": "656d0193-5ac4-4b89-92d1-ccc3b009acb2"
      },
      "execution_count": null,
      "outputs": [
        {
          "output_type": "stream",
          "name": "stdout",
          "text": [
            "0.8939966636005579\n",
            "1.0\n"
          ]
        }
      ]
    },
    {
      "cell_type": "markdown",
      "source": [
        "## Cálculo de la Base B a partir de una altura H\n",
        "\n",
        "$$\n",
        "B = \\frac{2 * H}{Tan(\\alpha)}\n",
        "$$"
      ],
      "metadata": {
        "id": "cjeLyPXW5tNg"
      }
    },
    {
      "cell_type": "code",
      "source": [
        "# Importamos el módulo math\n",
        "import math\n",
        "\n",
        "alfa = 51.85\n",
        "r = math.pi / 180\n",
        "\n",
        "# Muestra el contenido del módulo con la función dir()\n",
        "# dir(math)\n",
        "\n",
        "# Pido al usuario la Altura H del secadort\n",
        "h = float(input(\"INgrese la altura del secador en metros\"))\n",
        "\n",
        "# Calcular la Base B, la Arista A, y la apotema C de un secador solar tipo tienda piramidal\n",
        "b = 2 * h / math.tan(alfa * r)\n",
        "\n",
        "# Muestra la Base del secador\n",
        "print(\"Para una altura H = \", h, \"La Base B es \", b)"
      ],
      "metadata": {
        "colab": {
          "base_uri": "https://localhost:8080/"
        },
        "id": "8eJ0oitl22Wd",
        "outputId": "e709cad1-a14e-43bf-db5a-263066d3a117"
      },
      "execution_count": null,
      "outputs": [
        {
          "output_type": "stream",
          "name": "stdout",
          "text": [
            "INgrese la altura del secador en metros1\n",
            "Para una altura H =  1.0 La Base B es  1.571020627214876\n"
          ]
        }
      ]
    },
    {
      "cell_type": "markdown",
      "source": [
        "# Calculo de la arista A\n",
        "\n",
        "por justorfc@gmail.com"
      ],
      "metadata": {
        "id": "QoqaNVHW9hFT"
      }
    },
    {
      "cell_type": "code",
      "source": [],
      "metadata": {
        "id": "4A6229M09mRy"
      },
      "execution_count": null,
      "outputs": []
    }
  ]
}